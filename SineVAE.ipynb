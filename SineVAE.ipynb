{
 "cells": [
  {
   "cell_type": "code",
   "execution_count": null,
   "id": "5fc7a3c1-b784-4edb-8b13-bd1ad0a7462a",
   "metadata": {},
   "outputs": [],
   "source": [
    "import numpy as np\n",
    "import torch\n",
    "import torch.nn as nn\n",
    "import torch.nn.functional as F\n",
    "from torch.autograd import Variable\n",
    "from sklearn.model_selection import train_test_split"
   ]
  },
  {
   "cell_type": "code",
   "execution_count": null,
   "id": "ff4b0947-d378-4ea0-8923-1907ac046fda",
   "metadata": {},
   "outputs": [],
   "source": [
    "# Load and preprocess the dataset\n",
    "grid_size = 30\n",
    "num_samples = 10000\n",
    "num_selected_samples = 1000\n",
    "selected_designs_masked, _ = create_dataset(num_samples, num_selected_samples)\n",
    "\n",
    "# Split the dataset into train and validation sets\n",
    "train_data, val_data = train_test_split(selected_designs_masked, test_size=0.1, random_state=42)\n",
    "\n",
    "# Normalize the data\n",
    "train_data = np.array(train_data) / 3.0  # Normalizing between 0 and 1\n",
    "val_data = np.array(val_data) / 3.0\n",
    "\n",
    "# Convert data to PyTorch tensors\n",
    "train_data = torch.FloatTensor(train_data)\n",
    "val_data = torch.FloatTensor(val_data)"
   ]
  },
  {
   "cell_type": "code",
   "execution_count": null,
   "id": "8ed36ac0-fcc4-4042-9ad6-d8d8928c9f8a",
   "metadata": {},
   "outputs": [],
   "source": [
    "# Define VAE architecture\n",
    "class Encoder(nn.Module):\n",
    "    def __init__(self, input_size, hidden_size, latent_size):\n",
    "        super(Encoder, self).__init__()\n",
    "        self.fc1 = nn.Linear(input_size, hidden_size)\n",
    "        self.fc_mean = nn.Linear(hidden_size, latent_size)\n",
    "        self.fc_logvar = nn.Linear(hidden_size, latent_size)\n",
    "\n",
    "    def forward(self, x):\n",
    "        x = F.relu(self.fc1(x))\n",
    "        mean = self.fc_mean(x)\n",
    "        logvar = self.fc_logvar(x)\n",
    "        return mean, logvar\n",
    "\n",
    "class Decoder(nn.Module):\n",
    "    def __init__(self, latent_size, hidden_size, output_size):\n",
    "        super(Decoder, self).__init__()\n",
    "        self.fc1 = nn.Linear(latent_size, hidden_size)\n",
    "        self.fc2 = nn.Linear(hidden_size, output_size)\n",
    "\n",
    "    def forward(self, x):\n",
    "        x = F.relu(self.fc1(x))\n",
    "        x = torch.sigmoid(self.fc2(x))\n",
    "        return x\n",
    "\n",
    "class VAE(nn.Module):\n",
    "    def __init__(self, input_size, hidden_size, latent_size):\n",
    "        super(VAE, self).__init__()\n",
    "        self.encoder = Encoder(input_size, hidden_size, latent_size)\n",
    "        self.decoder = Decoder(latent_size, hidden_size, input_size)\n",
    "\n",
    "    def reparameterize(self, mean, logvar):\n",
    "        std = torch.exp(0.5 * logvar)\n",
    "        eps = torch.randn_like(std)\n",
    "        return mean + eps * std\n",
    "\n",
    "    def forward(self, x):\n",
    "        mean, logvar = self.encoder(x)\n",
    "        z = self.reparameterize(mean, logvar)\n",
    "        x_reconstructed = self.decoder(z)\n",
    "        return x_reconstructed, mean, logvar\n"
   ]
  },
  {
   "cell_type": "code",
   "execution_count": null,
   "id": "c505fde2-0117-4e5c-b141-32aa573773dd",
   "metadata": {},
   "outputs": [],
   "source": [
    "# Instantiate VAE\n",
    "input_size = grid_size * grid_size\n",
    "hidden_size = 128\n",
    "latent_size = 16\n",
    "vae = VAE(input_size, hidden_size, latent_size)\n",
    "\n",
    "# Define loss function\n",
    "def loss_function(recon_x, x, mu, logvar):\n",
    "    BCE = F.binary_cross_entropy(recon_x, x, reduction='sum')\n",
    "    KLD = -0.5 * torch.sum(1 + logvar - mu.pow(2) - logvar.exp())\n",
    "    return BCE + KLD"
   ]
  },
  {
   "cell_type": "code",
   "execution_count": null,
   "id": "c455430a-b8ab-48a3-9dae-b1b7539219c7",
   "metadata": {},
   "outputs": [],
   "source": [
    "# Training loop\n",
    "num_epochs = 50\n",
    "batch_size = 64\n",
    "learning_rate = 1e-3\n",
    "\n",
    "optimizer = torch.optim.Adam(vae.parameters(), lr=learning_rate)\n",
    "\n",
    "for epoch in range(num_epochs):\n",
    "    vae.train()\n",
    "    train_loss = 0\n",
    "    for i in range(0, len(train_data), batch_size):\n",
    "        batch = train_data[i:i+batch_size]\n",
    "        optimizer.zero_grad()\n",
    "        recon_batch, mu, logvar = vae(batch.view(-1, input_size))\n",
    "        loss = loss_function(recon_batch, batch.view(-1, input_size), mu, logvar)\n",
    "        loss.backward()\n",
    "        train_loss += loss.item()\n",
    "        optimizer.step()\n",
    "    print(f'Epoch [{epoch+1}/{num_epochs}], Loss: {train_loss / len(train_data):.4f}')\n"
   ]
  },
  {
   "cell_type": "code",
   "execution_count": null,
   "id": "98f2f63b-095e-4e98-ad1a-9b28bc15e476",
   "metadata": {},
   "outputs": [],
   "source": [
    "# Generate samples\n",
    "vae.eval()\n",
    "with torch.no_grad():\n",
    "    num_samples_to_generate = 5\n",
    "    z_samples = torch.randn(num_samples_to_generate, latent_size)\n",
    "    generated_samples = vae.decoder(z_samples).view(-1, grid_size, grid_size).numpy()\n"
   ]
  }
 ],
 "metadata": {
  "kernelspec": {
   "display_name": "Python 3 (ipykernel)",
   "language": "python",
   "name": "python3"
  },
  "language_info": {
   "codemirror_mode": {
    "name": "ipython",
    "version": 3
   },
   "file_extension": ".py",
   "mimetype": "text/x-python",
   "name": "python",
   "nbconvert_exporter": "python",
   "pygments_lexer": "ipython3",
   "version": "3.10.9"
  }
 },
 "nbformat": 4,
 "nbformat_minor": 5
}
